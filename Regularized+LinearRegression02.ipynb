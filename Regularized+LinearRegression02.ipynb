{
 "cells": [
  {
   "cell_type": "code",
   "execution_count": 1,
   "id": "0a8e8494-725f-4bcd-bd76-ac231e452c88",
   "metadata": {},
   "outputs": [],
   "source": [
    "from sklearn import datasets\n",
    "from sklearn.tree import DecisionTreeClassifier\n",
    "from sklearn.model_selection import KFold, cross_val_score\n",
    "from sklearn.tree import DecisionTreeRegressor\n",
    "import numpy as np\n",
    "import pandas as pd\n",
    "from sklearn.model_selection import train_test_split as tts\n",
    "from sklearn.linear_model import LinearRegression\n",
    "from sklearn.linear_model import Lasso"
   ]
  },
  {
   "cell_type": "code",
   "execution_count": 2,
   "id": "d4271d05-b880-4dc9-b474-2c1e73e7b94b",
   "metadata": {},
   "outputs": [],
   "source": [
    "data_url = \"http://lib.stat.cmu.edu/datasets/boston\"\n",
    "raw_df = pd.read_csv(data_url, sep=\"\\s+\", skiprows=22, header=None)\n",
    "x = np.hstack([raw_df.values[::2, :], raw_df.values[1::2, :2]])\n",
    "y = raw_df.values[1::2, 2]\n",
    "model = LinearRegression()"
   ]
  },
  {
   "cell_type": "code",
   "execution_count": 6,
   "id": "b880dc27-9a3a-4572-a3df-37f8cbf5a5b0",
   "metadata": {},
   "outputs": [
    {
     "name": "stdout",
     "output_type": "stream",
     "text": [
      "Cross Validate MSE is: [20.59500679 27.31734136 21.66891755]\n",
      "Mean MSE is:23.19375523272933\n",
      "R_squared value is:[0.72620992 0.71324978 0.73342693]\n",
      "the mean value of r_squared is:0.724295543870233\n"
     ]
    }
   ],
   "source": [
    "k=3\n",
    "kf=KFold(n_splits=k,shuffle=True,random_state=42)\n",
    "\n",
    "R2=cross_val_score(model,x,y,cv=kf,scoring='r2')\n",
    "CV_score=cross_val_score(model,x,y,cv=kf,scoring='neg_mean_squared_error')\n",
    "R2_mean=np.mean(r2)\n",
    "CVScore_pos=-cvs\n",
    "Mean_CVS=np.mean(cvs_pos)\n",
    "print(\"Cross Validate MSE is:\",CVScore_pos)\n",
    "print(f\"Mean MSE is:{Mean_CVS}\")\n",
    "print(f\"R_squared value is:{R2}\")\n",
    "print(f\"the mean value of r_squared is:{R2_mean}\")\n"
   ]
  },
  {
   "cell_type": "code",
   "execution_count": 8,
   "id": "2bd9a9e8-596c-4eac-b75d-4d41689d0bf7",
   "metadata": {},
   "outputs": [
    {
     "name": "stdout",
     "output_type": "stream",
     "text": [
      "Cross Validate in lasso MSE : [20.68734024 27.39871655 21.74278238]\n",
      "Mean R squared value is:0.7232987542499316\n",
      "R squared value is:[0.72498244 0.71239558 0.73251824]\n",
      "mean MSE of lasso regulation is:23.27627972157302\n"
     ]
    }
   ],
   "source": [
    "lasso=Lasso(alpha=0.01,random_state=42)\n",
    "CVS_lasso =cross_val_score(lasso,x,y,cv=kf,scoring='neg_mean_squared_error')\n",
    "R2_lasso=cross_val_score(lasso,x,y,cv=kf,scoring='r2')\n",
    "R2_lasso_mean=np.mean(R2_lasso)\n",
    "CVS_lasso_pos=-CVS_lasso\n",
    "mean_csv_lasso=np.mean(cvs_lasso_pos)\n",
    "print(\"Cross Validate in lasso MSE :\",CVS_lasso_pos)\n",
    "print(f\"Mean R squared value is:{R2_lasso_mean}\")\n",
    "print(f\"R squared value is:{R2_lasso}\")\n",
    "print(f\"mean MSE of lasso regulation is:{mean_csv_lasso}\")"
   ]
  },
  {
   "cell_type": "code",
   "execution_count": null,
   "id": "488f7de6-ad10-4132-9b21-38daec55206e",
   "metadata": {},
   "outputs": [],
   "source": []
  }
 ],
 "metadata": {
  "kernelspec": {
   "display_name": "Python 3 (ipykernel)",
   "language": "python",
   "name": "python3"
  },
  "language_info": {
   "codemirror_mode": {
    "name": "ipython",
    "version": 3
   },
   "file_extension": ".py",
   "mimetype": "text/x-python",
   "name": "python",
   "nbconvert_exporter": "python",
   "pygments_lexer": "ipython3",
   "version": "3.11.7"
  }
 },
 "nbformat": 4,
 "nbformat_minor": 5
}
